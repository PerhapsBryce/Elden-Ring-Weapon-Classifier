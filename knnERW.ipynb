{
  "nbformat": 4,
  "nbformat_minor": 0,
  "metadata": {
    "colab": {
      "provenance": [],
      "authorship_tag": "ABX9TyNp4VM0h18woStsfUB4BCNg",
      "include_colab_link": true
    },
    "kernelspec": {
      "name": "python3",
      "display_name": "Python 3"
    },
    "language_info": {
      "name": "python"
    }
  },
  "cells": [
    {
      "cell_type": "markdown",
      "metadata": {
        "id": "view-in-github",
        "colab_type": "text"
      },
      "source": [
        "<a href=\"https://colab.research.google.com/github/PerhapsBryce/Elden-Ring-Weapon-Classifier/blob/main/knnERW.ipynb\" target=\"_parent\"><img src=\"https://colab.research.google.com/assets/colab-badge.svg\" alt=\"Open In Colab\"/></a>"
      ]
    },
    {
      "cell_type": "markdown",
      "source": [
        "<h1>Import Libraries</h1>"
      ],
      "metadata": {
        "id": "NW_MVsHfLfNk"
      }
    },
    {
      "cell_type": "code",
      "execution_count": 49,
      "metadata": {
        "id": "cm_U2O9kLUVP"
      },
      "outputs": [],
      "source": [
        "import numpy as np\n",
        "import pandas as pd\n",
        "from sklearn import neighbors, metrics\n",
        "from sklearn.model_selection import train_test_split\n",
        "from sklearn.preprocessing import LabelEncoder"
      ]
    },
    {
      "cell_type": "markdown",
      "source": [
        "<h1>Load Data</h1>"
      ],
      "metadata": {
        "id": "tyxS7CXoLlnb"
      }
    },
    {
      "cell_type": "code",
      "source": [
        "data = pd.read_csv(\"elden_ring_weapon.csv\")\n",
        "\n",
        "X = data[[\"PhyD\",\n",
        "          \"MagD\",\n",
        "          \"FirD\",\n",
        "          \"LitD\",\n",
        "          \"HolD\",\n",
        "          \"CriD\",\n",
        "          \"StaD\",\n",
        "          \"PhyB\",\n",
        "          \"MagB\",\n",
        "          \"FirB\",\n",
        "          \"LitB\",\n",
        "          \"HolB\",\n",
        "          \"Bst\",\n",
        "          \"Rst\",\n",
        "          \"Wgt\"\n",
        "]].values\n",
        "\n",
        "y = data[[\"Type\"]]"
      ],
      "metadata": {
        "id": "EN6aQScuLk28"
      },
      "execution_count": 53,
      "outputs": []
    },
    {
      "cell_type": "markdown",
      "source": [
        "<h1>Preprocessing</h1>"
      ],
      "metadata": {
        "id": "lwhMlMt7O3Mx"
      }
    },
    {
      "cell_type": "code",
      "source": [
        "le = LabelEncoder()\n",
        "\n",
        "types = []\n",
        "for i in y[\"Type\"]:\n",
        "  if not i in types:\n",
        "    types.append(i)\n",
        "\n",
        "le.fit(types)\n",
        "y[\"Type\"] = le.transform(y[\"Type\"])\n",
        "\n",
        "y = np.array(y)"
      ],
      "metadata": {
        "colab": {
          "base_uri": "https://localhost:8080/"
        },
        "id": "ajqCg0TnO9vV",
        "outputId": "30ec1eb2-0163-43cb-cac1-9346ee2f8d3c"
      },
      "execution_count": 54,
      "outputs": [
        {
          "output_type": "stream",
          "name": "stderr",
          "text": [
            "/usr/local/lib/python3.7/dist-packages/ipykernel_launcher.py:9: SettingWithCopyWarning: \n",
            "A value is trying to be set on a copy of a slice from a DataFrame.\n",
            "Try using .loc[row_indexer,col_indexer] = value instead\n",
            "\n",
            "See the caveats in the documentation: https://pandas.pydata.org/pandas-docs/stable/user_guide/indexing.html#returning-a-view-versus-a-copy\n",
            "  if __name__ == '__main__':\n"
          ]
        }
      ]
    },
    {
      "cell_type": "markdown",
      "source": [
        "<h1>Training and Testing<h1/>"
      ],
      "metadata": {
        "id": "x4UUs3KOQ_4m"
      }
    },
    {
      "cell_type": "code",
      "source": [
        "knn = neighbors.KNeighborsClassifier(n_neighbors=25, weights=\"uniform\")\n",
        "\n",
        "x_train, x_test, y_train, y_test = train_test_split(X, y, test_size=0.2)\n",
        "knn.fit(x_train, y_train)\n",
        "\n",
        "predictions = knn.predict(x_test)"
      ],
      "metadata": {
        "colab": {
          "base_uri": "https://localhost:8080/"
        },
        "id": "7hkdFAEVRKec",
        "outputId": "17149f6f-fc74-40ae-9154-1f27d2270408"
      },
      "execution_count": 55,
      "outputs": [
        {
          "output_type": "stream",
          "name": "stderr",
          "text": [
            "/usr/local/lib/python3.7/dist-packages/sklearn/neighbors/_classification.py:198: DataConversionWarning: A column-vector y was passed when a 1d array was expected. Please change the shape of y to (n_samples,), for example using ravel().\n",
            "  return self._fit(X, y)\n"
          ]
        }
      ]
    },
    {
      "cell_type": "markdown",
      "source": [
        "<h1>Metrics<h1/>"
      ],
      "metadata": {
        "id": "ETrJ-qR4SbTk"
      }
    },
    {
      "cell_type": "code",
      "source": [
        "accuracy = metrics.accuracy_score(y_test, predictions)\n",
        "\n",
        "print(\"Accuracy:\", accuracy)"
      ],
      "metadata": {
        "colab": {
          "base_uri": "https://localhost:8080/"
        },
        "id": "-L786LkxSfk_",
        "outputId": "c555f0f4-9503-476b-b85d-18d6a8ae178a"
      },
      "execution_count": 56,
      "outputs": [
        {
          "output_type": "stream",
          "name": "stdout",
          "text": [
            "Accuracy: 0.24193548387096775\n"
          ]
        }
      ]
    }
  ]
}